{
  "nbformat": 4,
  "nbformat_minor": 0,
  "metadata": {
    "colab": {
      "provenance": [],
      "gpuType": "T4",
      "authorship_tag": "ABX9TyOvnMo35+QHbNs8hS+YcSfP",
      "include_colab_link": true
    },
    "kernelspec": {
      "name": "python3",
      "display_name": "Python 3"
    },
    "language_info": {
      "name": "python"
    },
    "accelerator": "GPU"
  },
  "cells": [
    {
      "cell_type": "markdown",
      "metadata": {
        "id": "view-in-github",
        "colab_type": "text"
      },
      "source": [
        "<a href=\"https://colab.research.google.com/github/kcj4800/AI-Personal-Trainer/blob/main/Aiffel_07_%EC%88%AB%EC%9E%90%EC%9D%B8%EC%8B%9D.ipynb\" target=\"_parent\"><img src=\"https://colab.research.google.com/assets/colab-badge.svg\" alt=\"Open In Colab\"/></a>"
      ]
    },
    {
      "cell_type": "code",
      "execution_count": 3,
      "metadata": {
        "colab": {
          "base_uri": "https://localhost:8080/"
        },
        "id": "in1tjd6nsQ_5",
        "outputId": "3b035777-61ac-49e9-d0ca-5c46ed612350"
      },
      "outputs": [
        {
          "output_type": "stream",
          "name": "stdout",
          "text": [
            "2.14.0\n",
            "Downloading data from https://storage.googleapis.com/tensorflow/tf-keras-datasets/mnist.npz\n",
            "11490434/11490434 [==============================] - 0s 0us/step\n",
            "x_train 배열의 크기 : 60000\n"
          ]
        }
      ],
      "source": [
        "import tensorflow as tf\n",
        "from tensorflow import keras\n",
        "\n",
        "import numpy as np\n",
        "import matplotlib.pyplot as plt\n",
        "\n",
        "print(tf.__version__)\n",
        "\n",
        "mnist = keras.datasets.mnist\n",
        "\n",
        "(x_train, y_train), (x_test, y_test) = mnist.load_data()\n",
        "\n",
        "print('x_train 배열의 크기 :', len(x_train))"
      ]
    },
    {
      "cell_type": "code",
      "source": [
        "plt.imshow(x_train[1], cmap = plt.cm.binary)\n",
        "plt.show()\n",
        "print(y_train[1])"
      ],
      "metadata": {
        "colab": {
          "base_uri": "https://localhost:8080/",
          "height": 448
        },
        "id": "QagM8b34MIxd",
        "outputId": "91f5a150-8e64-408d-d2c8-b94a8d3fb95e"
      },
      "execution_count": 4,
      "outputs": [
        {
          "output_type": "display_data",
          "data": {
            "text/plain": [
              "<Figure size 640x480 with 1 Axes>"
            ],
            "image/png": "[encoded data removed]"
          },
          "metadata": {}
        },
        {
          "output_type": "stream",
          "name": "stdout",
          "text": [
            "0\n"
          ]
        }
      ]
    },
    {
      "cell_type": "code",
      "source": [
        "index = 6\n",
        "plt.imshow(x_train[index], cmap = plt.cm.binary)\n",
        "plt.show()\n",
        "print((index+1), '번째 이미지 :', y_train[index])"
      ],
      "metadata": {
        "colab": {
          "base_uri": "https://localhost:8080/",
          "height": 448
        },
        "id": "qom6dHNfMfMr",
        "outputId": "1d9c3540-2e16-4e63-b075-d04cbff67e5c"
      },
      "execution_count": 5,
      "outputs": [
        {
          "output_type": "display_data",
          "data": {
            "text/plain": [
              "<Figure size 640x480 with 1 Axes>"
            ],
            "image/png": "[encoded data removed]"
          },
          "metadata": {}
        },
        {
          "output_type": "stream",
          "name": "stdout",
          "text": [
            "7 번째 이미지 : 1\n"
          ]
        }
      ]
    },
    {
      "cell_type": "code",
      "source": [
        "print(x_train.shape, np.shape(x_train))"
      ],
      "metadata": {
        "colab": {
          "base_uri": "https://localhost:8080/"
        },
        "id": "Vq-0ccdQNDuW",
        "outputId": "defddd64-2ce2-4d0f-837c-5b525d8f8973"
      },
      "execution_count": 6,
      "outputs": [
        {
          "output_type": "stream",
          "name": "stdout",
          "text": [
            "(60000, 28, 28) (60000, 28, 28)\n"
          ]
        }
      ]
    },
    {
      "cell_type": "code",
      "source": [
        "x_train_norm, x_test_norm = x_train/255.0, x_test/255.0\n",
        "print(np.min(x_train) , np.max(x_train))"
      ],
      "metadata": {
        "colab": {
          "base_uri": "https://localhost:8080/"
        },
        "id": "_tzTCQNONo3y",
        "outputId": "fe6a522f-dc9e-4a0d-df32-95f927b243a4"
      },
      "execution_count": 7,
      "outputs": [
        {
          "output_type": "stream",
          "name": "stdout",
          "text": [
            "0 255\n"
          ]
        }
      ]
    },
    {
      "cell_type": "code",
      "source": [
        "model = keras.models.Sequential()\n",
        "model.add(keras.layers.Conv2D(16, (3, 3), activation = 'relu', input_shape = (28, 28, 1)))\n",
        "model.add(keras.layers.MaxPool2D(2, 2))\n",
        "model.add(keras.layers.Conv2D(32, (3, 3), activation = 'relu'))\n",
        "model.add(keras.layers.MaxPooling2D((2, 2)))\n",
        "model.add(keras.layers.Flatten())\n",
        "model.add(keras.layers.Dense(32, activation = 'relu'))\n",
        "model.add(keras.layers.Dense(10, activation = 'softmax'))\n",
        "print('모델의 레이어 갯수 : ', len(model.layers))"
      ],
      "metadata": {
        "colab": {
          "base_uri": "https://localhost:8080/"
        },
        "id": "s2CBj0XpO6s8",
        "outputId": "8877b90b-dc30-40cd-b238-98223b8c10c1"
      },
      "execution_count": 8,
      "outputs": [
        {
          "output_type": "stream",
          "name": "stdout",
          "text": [
            "모델의 레이어 갯수 :  7\n"
          ]
        }
      ]
    },
    {
      "cell_type": "code",
      "source": [
        "model.summary()"
      ],
      "metadata": {
        "colab": {
          "base_uri": "https://localhost:8080/"
        },
        "id": "UGI29fm1QOXk",
        "outputId": "8cc4ee90-f92a-4a6d-c249-8abb3e021a9c"
      },
      "execution_count": 9,
      "outputs": [
        {
          "output_type": "stream",
          "name": "stdout",
          "text": [
            "Model: \"sequential\"\n",
            "_________________________________________________________________\n",
            " Layer (type)                Output Shape              Param #   \n",
            "=================================================================\n",
            " conv2d (Conv2D)             (None, 26, 26, 16)        160       \n",
            "                                                                 \n",
            " max_pooling2d (MaxPooling2  (None, 13, 13, 16)        0         \n",
            " D)                                                              \n",
            "                                                                 \n",
            " conv2d_1 (Conv2D)           (None, 11, 11, 32)        4640      \n",
            "                                                                 \n",
            " max_pooling2d_1 (MaxPoolin  (None, 5, 5, 32)          0         \n",
            " g2D)                                                            \n",
            "                                                                 \n",
            " flatten (Flatten)           (None, 800)               0         \n",
            "                                                                 \n",
            " dense (Dense)               (None, 32)                25632     \n",
            "                                                                 \n",
            " dense_1 (Dense)             (None, 10)                330       \n",
            "                                                                 \n",
            "=================================================================\n",
            "Total params: 30762 (120.16 KB)\n",
            "Trainable params: 30762 (120.16 KB)\n",
            "Non-trainable params: 0 (0.00 Byte)\n",
            "_________________________________________________________________\n"
          ]
        }
      ]
    },
    {
      "cell_type": "code",
      "source": [
        "print('리쉪 전 : ', x_train_norm.shape, '\\n', np.shape(x_test_norm))\n",
        "\n",
        "x_train_reshape = x_train_norm.reshape( -1, 28, 28, 1)\n",
        "x_test_reshape = x_test_norm.reshape( -1, 28, 28, 1)\n",
        "\n",
        "print('리쉡 후 : ', x_train_norm.shape, '\\n', np.shape(x_test_norm))"
      ],
      "metadata": {
        "colab": {
          "base_uri": "https://localhost:8080/"
        },
        "id": "K2y8Mr8IQpCz",
        "outputId": "3ab8cb38-a15b-4be4-8123-5aec441934a0"
      },
      "execution_count": 10,
      "outputs": [
        {
          "output_type": "stream",
          "name": "stdout",
          "text": [
            "리쉪 전 :  (60000, 28, 28) \n",
            " (10000, 28, 28)\n",
            "리쉡 후 :  (60000, 28, 28) \n",
            " (10000, 28, 28)\n"
          ]
        }
      ]
    },
    {
      "cell_type": "code",
      "source": [
        "model.compile(optimizer = 'adam', loss = 'sparse_categorical_crossentropy', metrics = ['accuracy'])\n",
        "\n",
        "model.fit(x_train_reshape, y_train, epochs = 10)"
      ],
      "metadata": {
        "colab": {
          "base_uri": "https://localhost:8080/"
        },
        "id": "cdw_hBGArJYM",
        "outputId": "91ab83f6-ccf4-476c-c1bb-f910a4ef27ec"
      },
      "execution_count": 11,
      "outputs": [
        {
          "output_type": "stream",
          "name": "stdout",
          "text": [
            "Epoch 1/10\n",
            "1875/1875 [==============================] - 19s 4ms/step - loss: 0.1951 - accuracy: 0.9416\n",
            "Epoch 2/10\n",
            "1875/1875 [==============================] - 8s 4ms/step - loss: 0.0641 - accuracy: 0.9800\n",
            "Epoch 3/10\n",
            "1875/1875 [==============================] - 7s 4ms/step - loss: 0.0470 - accuracy: 0.9849\n",
            "Epoch 4/10\n",
            "1875/1875 [==============================] - 7s 4ms/step - loss: 0.0362 - accuracy: 0.9887\n",
            "Epoch 5/10\n",
            "1875/1875 [==============================] - 7s 4ms/step - loss: 0.0293 - accuracy: 0.9904\n",
            "Epoch 6/10\n",
            "1875/1875 [==============================] - 7s 4ms/step - loss: 0.0247 - accuracy: 0.9916\n",
            "Epoch 7/10\n",
            "1875/1875 [==============================] - 6s 3ms/step - loss: 0.0195 - accuracy: 0.9938\n",
            "Epoch 8/10\n",
            "1875/1875 [==============================] - 7s 4ms/step - loss: 0.0168 - accuracy: 0.9948\n",
            "Epoch 9/10\n",
            "1875/1875 [==============================] - 6s 3ms/step - loss: 0.0142 - accuracy: 0.9950\n",
            "Epoch 10/10\n",
            "1875/1875 [==============================] - 7s 4ms/step - loss: 0.0127 - accuracy: 0.9959\n"
          ]
        },
        {
          "output_type": "execute_result",
          "data": {
            "text/plain": [
              "<keras.src.callbacks.History at 0x7e4b7d177070>"
            ]
          },
          "metadata": {},
          "execution_count": 11
        }
      ]
    },
    {
      "cell_type": "code",
      "source": [
        "test_loss, test_accuracy = model.evaluate(x_test_reshape, y_test, verbose = 2)\n",
        "print('test_loss : {}'.format(test_loss))\n",
        "print(f'test_accuracy : {test_accuracy}')"
      ],
      "metadata": {
        "colab": {
          "base_uri": "https://localhost:8080/"
        },
        "id": "WGMdsef4tCXo",
        "outputId": "6fd93177-a5f3-4ad0-f0bb-44ff8fa82561"
      },
      "execution_count": 12,
      "outputs": [
        {
          "output_type": "stream",
          "name": "stdout",
          "text": [
            "313/313 - 1s - loss: 0.0342 - accuracy: 0.9892 - 850ms/epoch - 3ms/step\n",
            "test_loss : 0.03422381728887558\n",
            "test_accuracy : 0.9891999959945679\n"
          ]
        }
      ]
    },
    {
      "cell_type": "code",
      "source": [
        "predicted_result = model.predict(x_test_reshape) # model이 추론한 확률값.\n",
        "predicted_labels = np.argmax(predicted_result, axis = 1)\n",
        "\n",
        "idx = 0 # 1번째 x_test를 살펴보자\n",
        "print('model.predict() 결과 : ', predicted_result[idx])\n",
        "print('model이 추론한 가장 가능성이 높은 결과 : ', predicted_labels[idx])\n",
        "print('실제 데이터의 라벨 : ', y_test[idx])\n",
        "\n",
        "plt.imshow(x_test[idx], cmap = plt.cm.binary)\n",
        "plt.show()"
      ],
      "metadata": {
        "colab": {
          "base_uri": "https://localhost:8080/",
          "height": 519
        },
        "id": "wmQu1rSWuMu9",
        "outputId": "774428f7-79d6-46ab-ddd2-4fe2ed5ed65e"
      },
      "execution_count": 13,
      "outputs": [
        {
          "output_type": "stream",
          "name": "stdout",
          "text": [
            "313/313 [==============================] - 1s 2ms/step\n",
            "model.predict() 결과 :  [1.6671419e-14 4.7699919e-13 2.7840463e-10 4.2739814e-10 2.1056658e-17\n",
            " 3.7999944e-14 1.4916688e-21 1.0000000e+00 1.3259237e-13 8.1532487e-09]\n",
            "model이 추론한 가장 가능성이 높은 결과 :  7\n",
            "실제 데이터의 라벨 :  7\n"
          ]
        },
        {
          "output_type": "display_data",
          "data": {
            "text/plain": [
              "<Figure size 640x480 with 1 Axes>"
            ],
            "image/png": "[encoded data removed]"
          },
          "metadata": {}
        }
      ]
    },
    {
      "cell_type": "code",
      "source": [
        "import random\n",
        "wrong_predict_list = []\n",
        "\n",
        "for i, _ in enumerate(predicted_labels):  # predicted_labels에 인덱싱 하는 것.\n",
        "  if predicted_labels[i] != y_test[i]:\n",
        "    wrong_predict_list.append(i)\n",
        "\n",
        "samples = random.choices(population = wrong_predict_list, k = 5) # population 리스트 안에서 무작위 k개 선택\n",
        "\n",
        "for n in samples:\n",
        "  print('예측확률분포 : ' + str(predicted_result[n]))\n",
        "  print('라벨 : ' + str(y_test[n]) + ', 예측결과 : ' + str(predicted_labels[n]))\n",
        "  plt.imshow(x_test[n], cmap = plt.cm.binary)\n",
        "  plt.show()"
      ],
      "metadata": {
        "colab": {
          "base_uri": "https://localhost:8080/",
          "height": 1000
        },
        "id": "hYsg240NuyhD",
        "outputId": "3f8c7a8e-266b-4a21-b813-e6c786294fbb"
      },
      "execution_count": 15,
      "outputs": [
        {
          "output_type": "stream",
          "name": "stdout",
          "text": [
            "예측확률분포 : [1.2089612e-02 1.9742718e-03 3.9056208e-06 6.6401206e-02 1.7574407e-02\n",
            " 1.0405027e-02 7.5501166e-06 6.1829388e-01 2.0547728e-03 2.7119538e-01]\n",
            "라벨 : 9, 예측결과 : 7\n"
          ]
        },
        {
          "output_type": "display_data",
          "data": {
            "text/plain": [
              "<Figure size 640x480 with 1 Axes>"
            ],
            "image/png": "[encoded data removed]"
          },
          "metadata": {}
        },
        {
          "output_type": "stream",
          "name": "stdout",
          "text": [
            "예측확률분포 : [8.4717712e-18 1.0132183e-11 5.9533750e-22 4.4186962e-01 1.0646518e-16\n",
            " 5.5812925e-01 1.1142070e-14 5.9846653e-13 1.7907145e-07 9.6744202e-07]\n",
            "라벨 : 3, 예측결과 : 5\n"
          ]
        },
        {
          "output_type": "display_data",
          "data": {
            "text/plain": [
              "<Figure size 640x480 with 1 Axes>"
            ],
            "image/png": "[encoded data removed]"
          },
          "metadata": {}
        },
        {
          "output_type": "stream",
          "name": "stdout",
          "text": [
            "예측확률분포 : [2.9603014e-04 2.0939426e-01 5.2490667e-02 6.4443127e-05 2.4087552e-05\n",
            " 4.7522235e-01 2.5517753e-01 7.3233903e-03 6.8136910e-06 4.8746756e-07]\n",
            "라벨 : 6, 예측결과 : 5\n"
          ]
        },
        {
          "output_type": "display_data",
          "data": {
            "text/plain": [
              "<Figure size 640x480 with 1 Axes>"
            ],
            "image/png": "[encoded data removed]"
          },
          "metadata": {}
        },
        {
          "output_type": "stream",
          "name": "stdout",
          "text": [
            "예측확률분포 : [1.2540677e-10 2.3673323e-08 1.3953505e-12 9.3745041e-01 1.0664146e-10\n",
            " 6.2076759e-02 5.2303718e-16 9.4019356e-07 8.8578425e-09 4.7197790e-04]\n",
            "라벨 : 5, 예측결과 : 3\n"
          ]
        },
        {
          "output_type": "display_data",
          "data": {
            "text/plain": [
              "<Figure size 640x480 with 1 Axes>"
            ],
            "image/png": "[encoded data removed]"
          },
          "metadata": {}
        },
        {
          "output_type": "stream",
          "name": "stdout",
          "text": [
            "예측확률분포 : [9.8467731e-01 3.5655363e-09 5.8167271e-10 2.2152297e-10 2.3757709e-09\n",
            " 1.3487504e-06 1.5321203e-02 1.5651849e-12 1.3357725e-07 5.3717492e-10]\n",
            "라벨 : 6, 예측결과 : 0\n"
          ]
        },
        {
          "output_type": "display_data",
          "data": {
            "text/plain": [
              "<Figure size 640x480 with 1 Axes>"
            ],
            "image/png": "[encoded data removed]"
          },
          "metadata": {}
        }
      ]
    },
    {
      "cell_type": "code",
      "source": [
        "print(predicted_labels, len(predicted_labels))\n",
        "print(samples)\n",
        "print(wrong_predict_list, '\\n', len(wrong_predict_list))"
      ],
      "metadata": {
        "colab": {
          "base_uri": "https://localhost:8080/"
        },
        "id": "CPDhQUE2zhVw",
        "outputId": "3de2d2fc-fe4d-4ee5-b013-26907a7da81e"
      },
      "execution_count": 16,
      "outputs": [
        {
          "output_type": "stream",
          "name": "stdout",
          "text": [
            "[7 2 1 ... 4 5 6] 10000\n",
            "[1414, 938, 9698, 5937, 3422]\n",
            "[151, 321, 340, 435, 445, 449, 495, 543, 582, 659, 716, 740, 844, 882, 938, 947, 1014, 1033, 1062, 1112, 1226, 1232, 1242, 1247, 1299, 1319, 1414, 1459, 1530, 1621, 1686, 1709, 1737, 1782, 1790, 1878, 1901, 2018, 2035, 2130, 2293, 2414, 2462, 2488, 2514, 2597, 2654, 2896, 2927, 2953, 2995, 3225, 3422, 3457, 3520, 3534, 3559, 3574, 3626, 3727, 3762, 3778, 3780, 3808, 3850, 3859, 3906, 4140, 4176, 4205, 4497, 4504, 4639, 4731, 4740, 4743, 4763, 4807, 4823, 4838, 4860, 4956, 5937, 5955, 5981, 5997, 6532, 6555, 6571, 6597, 6625, 6651, 6755, 6783, 8408, 9009, 9634, 9638, 9642, 9664, 9679, 9698, 9729, 9770, 9792, 9839, 9904, 9905] \n",
            " 108\n"
          ]
        }
      ]
    },
    {
      "cell_type": "code",
      "source": [
        "n_channel_1 = 32\n",
        "n_channel_2 = 98\n",
        "n_dense = 40\n",
        "n_train_epoch = 10\n",
        "\n",
        "model = keras.models.Sequential()\n",
        "model.add(keras.layers.Conv2D(n_channel_1, (3, 3), activation = 'relu', input_shape = (28, 28, 1)))\n",
        "model.add(keras.layers.MaxPool2D(2, 2))\n",
        "model.add(keras.layers.Conv2D(n_channel_2, (3, 3), activation = 'relu'))\n",
        "model.add(keras.layers.MaxPooling2D((2, 2)))\n",
        "model.add(keras.layers.Flatten())\n",
        "model.add(keras.layers.Dense(n_dense, activation = 'relu'))\n",
        "model.add(keras.layers.Dense(10, activation = 'softmax'))\n",
        "\n",
        "model.summary()"
      ],
      "metadata": {
        "colab": {
          "base_uri": "https://localhost:8080/"
        },
        "id": "DhMyQP5Q1nvb",
        "outputId": "74266853-5c23-4337-a467-28b9374eac7d"
      },
      "execution_count": 17,
      "outputs": [
        {
          "output_type": "stream",
          "name": "stdout",
          "text": [
            "Model: \"sequential_1\"\n",
            "_________________________________________________________________\n",
            " Layer (type)                Output Shape              Param #   \n",
            "=================================================================\n",
            " conv2d_2 (Conv2D)           (None, 26, 26, 32)        320       \n",
            "                                                                 \n",
            " max_pooling2d_2 (MaxPoolin  (None, 13, 13, 32)        0         \n",
            " g2D)                                                            \n",
            "                                                                 \n",
            " conv2d_3 (Conv2D)           (None, 11, 11, 98)        28322     \n",
            "                                                                 \n",
            " max_pooling2d_3 (MaxPoolin  (None, 5, 5, 98)          0         \n",
            " g2D)                                                            \n",
            "                                                                 \n",
            " flatten_1 (Flatten)         (None, 2450)              0         \n",
            "                                                                 \n",
            " dense_2 (Dense)             (None, 40)                98040     \n",
            "                                                                 \n",
            " dense_3 (Dense)             (None, 10)                410       \n",
            "                                                                 \n",
            "=================================================================\n",
            "Total params: 127092 (496.45 KB)\n",
            "Trainable params: 127092 (496.45 KB)\n",
            "Non-trainable params: 0 (0.00 Byte)\n",
            "_________________________________________________________________\n"
          ]
        }
      ]
    },
    {
      "cell_type": "code",
      "source": [
        "model.compile(optimizer = 'adam', loss = 'sparse_categorical_crossentropy', metrics = ['accuracy'])\n",
        "model.fit(x_train_reshape, y_train, epochs = n_train_epoch)\n",
        "\n",
        "test_loss, test_accuracy = model.evaluate(x_test_reshape, y_test, verbose = 2)\n",
        "\n",
        "print('test_loss : ', test_loss)\n",
        "print('test_accuracy : ', test_accuracy)"
      ],
      "metadata": {
        "colab": {
          "base_uri": "https://localhost:8080/"
        },
        "id": "dhYWmVuxGxy6",
        "outputId": "bc2f4ce2-338b-40a0-b180-2100db854c7a"
      },
      "execution_count": 18,
      "outputs": [
        {
          "output_type": "stream",
          "name": "stdout",
          "text": [
            "Epoch 1/10\n",
            "1875/1875 [==============================] - 9s 4ms/step - loss: 0.1499 - accuracy: 0.9541\n",
            "Epoch 2/10\n",
            "1875/1875 [==============================] - 7s 4ms/step - loss: 0.0499 - accuracy: 0.9841\n",
            "Epoch 3/10\n",
            "1875/1875 [==============================] - 7s 4ms/step - loss: 0.0355 - accuracy: 0.9890\n",
            "Epoch 4/10\n",
            "1875/1875 [==============================] - 7s 4ms/step - loss: 0.0267 - accuracy: 0.9914\n",
            "Epoch 5/10\n",
            "1875/1875 [==============================] - 7s 4ms/step - loss: 0.0217 - accuracy: 0.9931\n",
            "Epoch 6/10\n",
            "1875/1875 [==============================] - 7s 4ms/step - loss: 0.0162 - accuracy: 0.9950\n",
            "Epoch 7/10\n",
            "1875/1875 [==============================] - 7s 4ms/step - loss: 0.0134 - accuracy: 0.9955\n",
            "Epoch 8/10\n",
            "1875/1875 [==============================] - 7s 4ms/step - loss: 0.0107 - accuracy: 0.9966\n",
            "Epoch 9/10\n",
            "1875/1875 [==============================] - 7s 4ms/step - loss: 0.0091 - accuracy: 0.9969\n",
            "Epoch 10/10\n",
            "1875/1875 [==============================] - 7s 4ms/step - loss: 0.0079 - accuracy: 0.9975\n",
            "313/313 - 1s - loss: 0.0366 - accuracy: 0.9907 - 815ms/epoch - 3ms/step\n",
            "test_loss :  0.03662779927253723\n",
            "test_accuracy :  0.9907000064849854\n"
          ]
        }
      ]
    },
    {
      "cell_type": "code",
      "source": [],
      "metadata": {
        "id": "WCE6G9DDHBm9"
      },
      "execution_count": null,
      "outputs": []
    }
  ]
}